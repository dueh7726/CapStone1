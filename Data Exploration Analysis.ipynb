{
 "cells": [
  {
   "cell_type": "code",
   "execution_count": 1,
   "metadata": {
    "collapsed": true
   },
   "outputs": [],
   "source": [
    "import numpy as np # linear algebra\n",
    "import pandas as pd # data processing, CSV file I/O (e.g. pd.read_csv)\n",
    "%matplotlib inline\n",
    "import matplotlib.pyplot as plt\n",
    "import math\n",
    "import seaborn as sns"
   ]
  },
  {
   "cell_type": "code",
   "execution_count": 142,
   "metadata": {
    "collapsed": false
   },
   "outputs": [
    {
     "name": "stderr",
     "output_type": "stream",
     "text": [
      "/home/pizzle/anaconda3/lib/python3.6/site-packages/IPython/core/interactiveshell.py:2717: DtypeWarning: Columns (6) have mixed types. Specify dtype option on import or set low_memory=False.\n",
      "  interactivity=interactivity, compiler=compiler, result=result)\n"
     ]
    }
   ],
   "source": [
    "#Bring the data in \n",
    "loandata = pd.read_csv(\"CleanLoanData.csv\")"
   ]
  },
  {
   "cell_type": "code",
   "execution_count": 143,
   "metadata": {
    "collapsed": false
   },
   "outputs": [
    {
     "data": {
      "text/plain": [
       "['Unnamed: 0',\n",
       " 'member_id',\n",
       " 'loan_amnt',\n",
       " 'int_rate',\n",
       " 'installment',\n",
       " 'emp_length',\n",
       " 'home_ownership',\n",
       " 'annual_inc',\n",
       " 'issue_d',\n",
       " 'loan_status',\n",
       " 'zip_code',\n",
       " 'addr_state',\n",
       " 'dti',\n",
       " 'earliest_cr_line',\n",
       " 'open_acc',\n",
       " 'revol_bal',\n",
       " 'total_acc',\n",
       " 'acc_now_delinq',\n",
       " 'GoodBadLoan']"
      ]
     },
     "execution_count": 143,
     "metadata": {},
     "output_type": "execute_result"
    }
   ],
   "source": [
    "list(loandata)"
   ]
  },
  {
   "cell_type": "code",
   "execution_count": 146,
   "metadata": {
    "collapsed": false
   },
   "outputs": [
    {
     "data": {
      "text/html": [
       "<div>\n",
       "<table border=\"1\" class=\"dataframe\">\n",
       "  <thead>\n",
       "    <tr style=\"text-align: right;\">\n",
       "      <th></th>\n",
       "      <th>Unnamed: 0</th>\n",
       "      <th>member_id</th>\n",
       "      <th>loan_amnt</th>\n",
       "      <th>installment</th>\n",
       "      <th>annual_inc</th>\n",
       "      <th>dti</th>\n",
       "      <th>open_acc</th>\n",
       "      <th>revol_bal</th>\n",
       "      <th>total_acc</th>\n",
       "      <th>acc_now_delinq</th>\n",
       "    </tr>\n",
       "  </thead>\n",
       "  <tbody>\n",
       "    <tr>\n",
       "      <th>count</th>\n",
       "      <td>887383.000000</td>\n",
       "      <td>8.873820e+05</td>\n",
       "      <td>887382.000000</td>\n",
       "      <td>887382.000000</td>\n",
       "      <td>8.873780e+05</td>\n",
       "      <td>887382.00000</td>\n",
       "      <td>887353.000000</td>\n",
       "      <td>8.873820e+05</td>\n",
       "      <td>887353.000000</td>\n",
       "      <td>887353.000000</td>\n",
       "    </tr>\n",
       "    <tr>\n",
       "      <th>mean</th>\n",
       "      <td>443691.000000</td>\n",
       "      <td>3.500184e+07</td>\n",
       "      <td>14755.280082</td>\n",
       "      <td>436.717647</td>\n",
       "      <td>7.502761e+04</td>\n",
       "      <td>18.15702</td>\n",
       "      <td>11.548471</td>\n",
       "      <td>1.692076e+04</td>\n",
       "      <td>25.268032</td>\n",
       "      <td>0.004991</td>\n",
       "    </tr>\n",
       "    <tr>\n",
       "      <th>std</th>\n",
       "      <td>256165.551298</td>\n",
       "      <td>2.411336e+07</td>\n",
       "      <td>8435.456408</td>\n",
       "      <td>244.186619</td>\n",
       "      <td>6.469823e+04</td>\n",
       "      <td>17.19060</td>\n",
       "      <td>5.317310</td>\n",
       "      <td>2.242676e+04</td>\n",
       "      <td>11.840553</td>\n",
       "      <td>0.077625</td>\n",
       "    </tr>\n",
       "    <tr>\n",
       "      <th>min</th>\n",
       "      <td>0.000000</td>\n",
       "      <td>7.047300e+04</td>\n",
       "      <td>500.000000</td>\n",
       "      <td>15.670000</td>\n",
       "      <td>0.000000e+00</td>\n",
       "      <td>0.00000</td>\n",
       "      <td>0.000000</td>\n",
       "      <td>0.000000e+00</td>\n",
       "      <td>1.000000</td>\n",
       "      <td>0.000000</td>\n",
       "    </tr>\n",
       "    <tr>\n",
       "      <th>25%</th>\n",
       "      <td>221845.500000</td>\n",
       "      <td>1.087713e+07</td>\n",
       "      <td>8000.000000</td>\n",
       "      <td>260.710000</td>\n",
       "      <td>4.500000e+04</td>\n",
       "      <td>11.91000</td>\n",
       "      <td>8.000000</td>\n",
       "      <td>6.443000e+03</td>\n",
       "      <td>17.000000</td>\n",
       "      <td>0.000000</td>\n",
       "    </tr>\n",
       "    <tr>\n",
       "      <th>50%</th>\n",
       "      <td>443691.000000</td>\n",
       "      <td>3.709528e+07</td>\n",
       "      <td>13000.000000</td>\n",
       "      <td>382.550000</td>\n",
       "      <td>6.500000e+04</td>\n",
       "      <td>17.65000</td>\n",
       "      <td>11.000000</td>\n",
       "      <td>1.187500e+04</td>\n",
       "      <td>24.000000</td>\n",
       "      <td>0.000000</td>\n",
       "    </tr>\n",
       "    <tr>\n",
       "      <th>75%</th>\n",
       "      <td>665536.500000</td>\n",
       "      <td>5.847135e+07</td>\n",
       "      <td>20000.000000</td>\n",
       "      <td>572.600000</td>\n",
       "      <td>9.000000e+04</td>\n",
       "      <td>23.95000</td>\n",
       "      <td>14.000000</td>\n",
       "      <td>2.082900e+04</td>\n",
       "      <td>32.000000</td>\n",
       "      <td>0.000000</td>\n",
       "    </tr>\n",
       "    <tr>\n",
       "      <th>max</th>\n",
       "      <td>887382.000000</td>\n",
       "      <td>7.354484e+07</td>\n",
       "      <td>35000.000000</td>\n",
       "      <td>1445.460000</td>\n",
       "      <td>9.500000e+06</td>\n",
       "      <td>9999.00000</td>\n",
       "      <td>90.000000</td>\n",
       "      <td>2.904836e+06</td>\n",
       "      <td>169.000000</td>\n",
       "      <td>14.000000</td>\n",
       "    </tr>\n",
       "  </tbody>\n",
       "</table>\n",
       "</div>"
      ],
      "text/plain": [
       "          Unnamed: 0     member_id      loan_amnt    installment  \\\n",
       "count  887383.000000  8.873820e+05  887382.000000  887382.000000   \n",
       "mean   443691.000000  3.500184e+07   14755.280082     436.717647   \n",
       "std    256165.551298  2.411336e+07    8435.456408     244.186619   \n",
       "min         0.000000  7.047300e+04     500.000000      15.670000   \n",
       "25%    221845.500000  1.087713e+07    8000.000000     260.710000   \n",
       "50%    443691.000000  3.709528e+07   13000.000000     382.550000   \n",
       "75%    665536.500000  5.847135e+07   20000.000000     572.600000   \n",
       "max    887382.000000  7.354484e+07   35000.000000    1445.460000   \n",
       "\n",
       "         annual_inc           dti       open_acc     revol_bal      total_acc  \\\n",
       "count  8.873780e+05  887382.00000  887353.000000  8.873820e+05  887353.000000   \n",
       "mean   7.502761e+04      18.15702      11.548471  1.692076e+04      25.268032   \n",
       "std    6.469823e+04      17.19060       5.317310  2.242676e+04      11.840553   \n",
       "min    0.000000e+00       0.00000       0.000000  0.000000e+00       1.000000   \n",
       "25%    4.500000e+04      11.91000       8.000000  6.443000e+03      17.000000   \n",
       "50%    6.500000e+04      17.65000      11.000000  1.187500e+04      24.000000   \n",
       "75%    9.000000e+04      23.95000      14.000000  2.082900e+04      32.000000   \n",
       "max    9.500000e+06    9999.00000      90.000000  2.904836e+06     169.000000   \n",
       "\n",
       "       acc_now_delinq  \n",
       "count   887353.000000  \n",
       "mean         0.004991  \n",
       "std          0.077625  \n",
       "min          0.000000  \n",
       "25%          0.000000  \n",
       "50%          0.000000  \n",
       "75%          0.000000  \n",
       "max         14.000000  "
      ]
     },
     "execution_count": 146,
     "metadata": {},
     "output_type": "execute_result"
    }
   ],
   "source": [
    "loandata.describe()"
   ]
  },
  {
   "cell_type": "code",
   "execution_count": 91,
   "metadata": {
    "collapsed": false
   },
   "outputs": [
    {
     "data": {
      "text/plain": [
       "count    887382.000000\n",
       "mean      14755.280082\n",
       "std        8435.456408\n",
       "min         500.000000\n",
       "25%        8000.000000\n",
       "50%       13000.000000\n",
       "75%       20000.000000\n",
       "max       35000.000000\n",
       "Name: loan_amnt, dtype: float64"
      ]
     },
     "execution_count": 91,
     "metadata": {},
     "output_type": "execute_result"
    }
   ],
   "source": [
    "loandata['loan_amnt'] = loandata['loan_amnt'].astype(float)\n",
    "loandata['loan_amnt'].describe()"
   ]
  },
  {
   "cell_type": "code",
   "execution_count": 100,
   "metadata": {
    "collapsed": false
   },
   "outputs": [],
   "source": [
    "loandata['int_rate'] = loandata['int_rate'].map(lambda t: str(t).lstrip(' ').rstrip('%'))\n",
    "loandata['int_rate'] = loandata['int_rate'].astype(float)\n"
   ]
  },
  {
   "cell_type": "code",
   "execution_count": 6,
   "metadata": {
    "collapsed": false
   },
   "outputs": [
    {
     "data": {
      "text/html": [
       "<div>\n",
       "<table border=\"1\" class=\"dataframe\">\n",
       "  <thead>\n",
       "    <tr style=\"text-align: right;\">\n",
       "      <th></th>\n",
       "      <th>Unnamed: 0</th>\n",
       "      <th>member_id</th>\n",
       "      <th>loan_amnt</th>\n",
       "      <th>installment</th>\n",
       "      <th>annual_inc</th>\n",
       "      <th>dti</th>\n",
       "      <th>open_acc</th>\n",
       "      <th>revol_bal</th>\n",
       "      <th>total_acc</th>\n",
       "      <th>acc_now_delinq</th>\n",
       "    </tr>\n",
       "  </thead>\n",
       "  <tbody>\n",
       "    <tr>\n",
       "      <th>count</th>\n",
       "      <td>887383.000000</td>\n",
       "      <td>8.873820e+05</td>\n",
       "      <td>887382.000000</td>\n",
       "      <td>887382.000000</td>\n",
       "      <td>8.873780e+05</td>\n",
       "      <td>887382.00000</td>\n",
       "      <td>887353.000000</td>\n",
       "      <td>8.873820e+05</td>\n",
       "      <td>887353.000000</td>\n",
       "      <td>887353.000000</td>\n",
       "    </tr>\n",
       "    <tr>\n",
       "      <th>mean</th>\n",
       "      <td>443691.000000</td>\n",
       "      <td>3.500184e+07</td>\n",
       "      <td>14755.280082</td>\n",
       "      <td>436.717647</td>\n",
       "      <td>7.502761e+04</td>\n",
       "      <td>18.15702</td>\n",
       "      <td>11.548471</td>\n",
       "      <td>1.692076e+04</td>\n",
       "      <td>25.268032</td>\n",
       "      <td>0.004991</td>\n",
       "    </tr>\n",
       "    <tr>\n",
       "      <th>std</th>\n",
       "      <td>256165.551298</td>\n",
       "      <td>2.411336e+07</td>\n",
       "      <td>8435.456408</td>\n",
       "      <td>244.186619</td>\n",
       "      <td>6.469823e+04</td>\n",
       "      <td>17.19060</td>\n",
       "      <td>5.317310</td>\n",
       "      <td>2.242676e+04</td>\n",
       "      <td>11.840553</td>\n",
       "      <td>0.077625</td>\n",
       "    </tr>\n",
       "    <tr>\n",
       "      <th>min</th>\n",
       "      <td>0.000000</td>\n",
       "      <td>7.047300e+04</td>\n",
       "      <td>500.000000</td>\n",
       "      <td>15.670000</td>\n",
       "      <td>0.000000e+00</td>\n",
       "      <td>0.00000</td>\n",
       "      <td>0.000000</td>\n",
       "      <td>0.000000e+00</td>\n",
       "      <td>1.000000</td>\n",
       "      <td>0.000000</td>\n",
       "    </tr>\n",
       "    <tr>\n",
       "      <th>25%</th>\n",
       "      <td>221845.500000</td>\n",
       "      <td>1.087713e+07</td>\n",
       "      <td>8000.000000</td>\n",
       "      <td>260.710000</td>\n",
       "      <td>4.500000e+04</td>\n",
       "      <td>11.91000</td>\n",
       "      <td>8.000000</td>\n",
       "      <td>6.443000e+03</td>\n",
       "      <td>17.000000</td>\n",
       "      <td>0.000000</td>\n",
       "    </tr>\n",
       "    <tr>\n",
       "      <th>50%</th>\n",
       "      <td>443691.000000</td>\n",
       "      <td>3.709528e+07</td>\n",
       "      <td>13000.000000</td>\n",
       "      <td>382.550000</td>\n",
       "      <td>6.500000e+04</td>\n",
       "      <td>17.65000</td>\n",
       "      <td>11.000000</td>\n",
       "      <td>1.187500e+04</td>\n",
       "      <td>24.000000</td>\n",
       "      <td>0.000000</td>\n",
       "    </tr>\n",
       "    <tr>\n",
       "      <th>75%</th>\n",
       "      <td>665536.500000</td>\n",
       "      <td>5.847135e+07</td>\n",
       "      <td>20000.000000</td>\n",
       "      <td>572.600000</td>\n",
       "      <td>9.000000e+04</td>\n",
       "      <td>23.95000</td>\n",
       "      <td>14.000000</td>\n",
       "      <td>2.082900e+04</td>\n",
       "      <td>32.000000</td>\n",
       "      <td>0.000000</td>\n",
       "    </tr>\n",
       "    <tr>\n",
       "      <th>max</th>\n",
       "      <td>887382.000000</td>\n",
       "      <td>7.354484e+07</td>\n",
       "      <td>35000.000000</td>\n",
       "      <td>1445.460000</td>\n",
       "      <td>9.500000e+06</td>\n",
       "      <td>9999.00000</td>\n",
       "      <td>90.000000</td>\n",
       "      <td>2.904836e+06</td>\n",
       "      <td>169.000000</td>\n",
       "      <td>14.000000</td>\n",
       "    </tr>\n",
       "  </tbody>\n",
       "</table>\n",
       "</div>"
      ],
      "text/plain": [
       "          Unnamed: 0     member_id      loan_amnt    installment  \\\n",
       "count  887383.000000  8.873820e+05  887382.000000  887382.000000   \n",
       "mean   443691.000000  3.500184e+07   14755.280082     436.717647   \n",
       "std    256165.551298  2.411336e+07    8435.456408     244.186619   \n",
       "min         0.000000  7.047300e+04     500.000000      15.670000   \n",
       "25%    221845.500000  1.087713e+07    8000.000000     260.710000   \n",
       "50%    443691.000000  3.709528e+07   13000.000000     382.550000   \n",
       "75%    665536.500000  5.847135e+07   20000.000000     572.600000   \n",
       "max    887382.000000  7.354484e+07   35000.000000    1445.460000   \n",
       "\n",
       "         annual_inc           dti       open_acc     revol_bal      total_acc  \\\n",
       "count  8.873780e+05  887382.00000  887353.000000  8.873820e+05  887353.000000   \n",
       "mean   7.502761e+04      18.15702      11.548471  1.692076e+04      25.268032   \n",
       "std    6.469823e+04      17.19060       5.317310  2.242676e+04      11.840553   \n",
       "min    0.000000e+00       0.00000       0.000000  0.000000e+00       1.000000   \n",
       "25%    4.500000e+04      11.91000       8.000000  6.443000e+03      17.000000   \n",
       "50%    6.500000e+04      17.65000      11.000000  1.187500e+04      24.000000   \n",
       "75%    9.000000e+04      23.95000      14.000000  2.082900e+04      32.000000   \n",
       "max    9.500000e+06    9999.00000      90.000000  2.904836e+06     169.000000   \n",
       "\n",
       "       acc_now_delinq  \n",
       "count   887353.000000  \n",
       "mean         0.004991  \n",
       "std          0.077625  \n",
       "min          0.000000  \n",
       "25%          0.000000  \n",
       "50%          0.000000  \n",
       "75%          0.000000  \n",
       "max         14.000000  "
      ]
     },
     "execution_count": 6,
     "metadata": {},
     "output_type": "execute_result"
    }
   ],
   "source": [
    "loandata.describe()"
   ]
  },
  {
   "cell_type": "code",
   "execution_count": 18,
   "metadata": {
    "collapsed": false
   },
   "outputs": [
    {
     "data": {
      "text/plain": [
       "count        51.000000\n",
       "mean      17399.647059\n",
       "std       23109.205440\n",
       "min          12.000000\n",
       "25%        3856.000000\n",
       "50%       10893.000000\n",
       "75%       20812.500000\n",
       "max      129518.000000\n",
       "Name: addr_state, dtype: float64"
      ]
     },
     "execution_count": 18,
     "metadata": {},
     "output_type": "execute_result"
    }
   ],
   "source": [
    "stateCounts.describe()"
   ]
  },
  {
   "cell_type": "code",
   "execution_count": 76,
   "metadata": {
    "collapsed": false
   },
   "outputs": [],
   "source": [
    "stateCounts = []"
   ]
  },
  {
   "cell_type": "code",
   "execution_count": 77,
   "metadata": {
    "collapsed": false
   },
   "outputs": [
    {
     "name": "stdout",
     "output_type": "stream",
     "text": [
      "ME    0.001905\n",
      "ND    0.008351\n",
      "NE    0.020408\n",
      "DC    0.048520\n",
      "MS    0.052632\n",
      "VT    0.054535\n",
      "NH    0.057056\n",
      "WY    0.057692\n",
      "WV    0.060192\n",
      "KS    0.061948\n",
      "CO    0.063115\n",
      "IL    0.063649\n",
      "SC    0.063728\n",
      "MT    0.065285\n",
      "TX    0.066898\n",
      "WI    0.067306\n",
      "CT    0.068140\n",
      "AK    0.068481\n",
      "IN    0.069693\n",
      "KY    0.070643\n",
      "GA    0.070859\n",
      "OR    0.071238\n",
      "TN    0.071623\n",
      "OH    0.072053\n",
      "WA    0.072450\n",
      "MA    0.073954\n",
      "MN    0.074137\n",
      "MI    0.074614\n",
      "RI    0.075006\n",
      "DE    0.075269\n",
      "MO    0.076300\n",
      "AR    0.076355\n",
      "PA    0.076386\n",
      "AZ    0.077454\n",
      "SD    0.077686\n",
      "NC    0.079733\n",
      "MD    0.080025\n",
      "NJ    0.080647\n",
      "LA    0.080759\n",
      "UT    0.080939\n",
      "CA    0.081209\n",
      "NM    0.081393\n",
      "OK    0.082251\n",
      "VA    0.082537\n",
      "ID    0.083333\n",
      "FL    0.084483\n",
      "NY    0.084888\n",
      "AL    0.088661\n",
      "HI    0.093435\n",
      "NV    0.094270\n",
      "IA    0.214286\n",
      "Name: addr_state, dtype: float64\n"
     ]
    }
   ],
   "source": [
    "#Is there a geographic correlation to the data? Zip Code and State? \n",
    "stateCounts = loandata.addr_state.value_counts()\n",
    "goods_per_state= loandata[loandata['GoodBadLoan']==True].addr_state.value_counts()\n",
    "\n",
    "perc_per_state = (stateCounts.ix[:]- goods_per_state.ix[:])/stateCounts.ix[:]\n",
    "perc_per_state = perc_per_state.sort_values(ascending = True)\n",
    "print(perc_per_state)\n",
    "#perc_per_state\n",
    "#perc_per_state\n",
    "#plt.pie(perc_per_state)\n",
    "#plt.hist(goods_per_state, label='Goods in Each State')\n",
    "#plt.legend(loc='upper right')\n",
    "#plt.show()"
   ]
  },
  {
   "cell_type": "markdown",
   "metadata": {},
   "source": [
    "Almost 20% of loans from people originating in Iowa are bad. North Dakota have a very low rate of bads. All other states are between 10% and 2%. "
   ]
  },
  {
   "cell_type": "code",
   "execution_count": 102,
   "metadata": {
    "collapsed": false
   },
   "outputs": [
    {
     "data": {
      "image/png": "[encoded data removed]",
      "text/plain": [
       "<matplotlib.figure.Figure at 0x7f89cf03c978>"
      ]
     },
     "metadata": {},
     "output_type": "display_data"
    }
   ],
   "source": [
    "zipCounts = loandata.zip_code.value_counts()\n",
    "goods_per_zip= loandata[loandata['GoodBadLoan']==True].zip_code.value_counts()\n",
    "\n",
    "perc_per_state = (zipCounts.ix[:]- goods_per_zip.ix[:])/zipCounts.ix[:]\n",
    "perc_per_state = perc_per_state.sort_values(ascending = False)\n",
    "perc_per_st_plot = perc_per_state.plot(kind='bar')"
   ]
  },
  {
   "cell_type": "markdown",
   "metadata": {},
   "source": [
    "There seems to bea few counties that have a high probability of bad loans for specific zip codes.  "
   ]
  },
  {
   "cell_type": "code",
   "execution_count": null,
   "metadata": {
    "collapsed": true
   },
   "outputs": [],
   "source": [
    "#Could any features be linearly related?"
   ]
  },
  {
   "cell_type": "code",
   "execution_count": 80,
   "metadata": {
    "collapsed": false
   },
   "outputs": [
    {
     "data": {
      "text/plain": [
       "'10'"
      ]
     },
     "execution_count": 80,
     "metadata": {},
     "output_type": "execute_result"
    }
   ],
   "source": [
    "import re\n",
    "re.sub(\"\\D\", \"\", \"10+ years\")"
   ]
  },
  {
   "cell_type": "code",
   "execution_count": 112,
   "metadata": {
    "collapsed": false
   },
   "outputs": [
    {
     "data": {
      "image/png": "[encoded data removed]",
      "text/plain": [
       "<matplotlib.figure.Figure at 0x7f897e6c08d0>"
      ]
     },
     "metadata": {},
     "output_type": "display_data"
    }
   ],
   "source": [
    "#Is there a relationship between employment length and the loan?\n",
    "\n",
    "loans_group_empL = loandata.groupby('emp_length')\n",
    "empL_counts = loans_group_empL.size()\n",
    "\n",
    "my_plot = empL_counts.plot(kind='bar')"
   ]
  },
  {
   "cell_type": "code",
   "execution_count": 116,
   "metadata": {
    "collapsed": false
   },
   "outputs": [
    {
     "data": {
      "image/png": "[encoded data removed]",
      "text/plain": [
       "<matplotlib.figure.Figure at 0x7f89b4440278>"
      ]
     },
     "metadata": {},
     "output_type": "display_data"
    }
   ],
   "source": [
    "goodLoans = loandata[loandata['GoodBadLoan']==True]\n",
    "gdLoans_gp_empL = goodLoans.groupby('emp_length')\n",
    "gdLoans_grp = gdLoans_gp_empL.size()\n",
    "\n",
    "my2_plot = gdLoans_grp.plot(kind='bar')"
   ]
  },
  {
   "cell_type": "code",
   "execution_count": 125,
   "metadata": {
    "collapsed": false
   },
   "outputs": [
    {
     "data": {
      "text/plain": [
       "<matplotlib.axes._subplots.AxesSubplot at 0x7f89b4199e10>"
      ]
     },
     "execution_count": 125,
     "metadata": {},
     "output_type": "execute_result"
    },
    {
     "data": {
      "image/png": "[encoded data removed]",
      "text/plain": [
       "<matplotlib.figure.Figure at 0x7f89b423ff60>"
      ]
     },
     "metadata": {},
     "output_type": "display_data"
    }
   ],
   "source": [
    "perc_emp_length = (empL_counts.ix[:] - gdLoans_grp.ix[:])/empL_counts.ix[:]\n",
    "perc_emp_length.plot(kind='bar')"
   ]
  },
  {
   "cell_type": "markdown",
   "metadata": {},
   "source": [
    "There is no significant difference in the employment length and predicting a bad loan. The mean percentage of bad loans for all employment lengths is 7%, and for all levels of employement it is within 1% of the mean. Although it is the lowest for those employed the longest, which makes sense. The highest default rate is 6 years of employment. "
   ]
  },
  {
   "cell_type": "code",
   "execution_count": 134,
   "metadata": {
    "collapsed": false
   },
   "outputs": [
    {
     "data": {
      "text/plain": [
       "count    67429.000000\n",
       "mean     14858.564935\n",
       "std       8471.158706\n",
       "min        500.000000\n",
       "25%       8325.000000\n",
       "50%      13175.000000\n",
       "75%      20000.000000\n",
       "max      35000.000000\n",
       "Name: loan_amnt, dtype: float64"
      ]
     },
     "execution_count": 134,
     "metadata": {},
     "output_type": "execute_result"
    }
   ],
   "source": [
    "#Is there a relationship between the amount of the loan and default?\n",
    "bdLns = loandata[loandata['GoodBadLoan']==False]\n",
    "bdLns.loan_amnt.describe()"
   ]
  },
  {
   "cell_type": "code",
   "execution_count": 138,
   "metadata": {
    "collapsed": false
   },
   "outputs": [
    {
     "data": {
      "text/plain": [
       "<matplotlib.axes._subplots.AxesSubplot at 0x7f89c02199b0>"
      ]
     },
     "execution_count": 138,
     "metadata": {},
     "output_type": "execute_result"
    },
    {
     "data": {
      "image/png": "[encoded data removed]",
      "text/plain": [
       "<matplotlib.figure.Figure at 0x7f89b41b1710>"
      ]
     },
     "metadata": {},
     "output_type": "display_data"
    }
   ],
   "source": [
    "gdLns = loandata[loandata['GoodBadLoan']==True]\n",
    "gdLns.loan_amnt.plot(kind='line')"
   ]
  },
  {
   "cell_type": "code",
   "execution_count": null,
   "metadata": {
    "collapsed": true
   },
   "outputs": [],
   "source": [
    "#What does int rates versus default look like?"
   ]
  },
  {
   "cell_type": "code",
   "execution_count": null,
   "metadata": {
    "collapsed": true
   },
   "outputs": [],
   "source": [
    "#What does annual income versus loan amount and default rate look like "
   ]
  },
  {
   "cell_type": "code",
   "execution_count": null,
   "metadata": {
    "collapsed": true
   },
   "outputs": [],
   "source": [
    "#Are there months when loans are originated that tend to indicate bads? Christmas? \n"
   ]
  },
  {
   "cell_type": "code",
   "execution_count": null,
   "metadata": {
    "collapsed": true
   },
   "outputs": [],
   "source": [
    "#How does debt to income ratio, annual income, loan amount and interest rate relate, inq_last 6mths, open accs, revol_bal, revol_util? "
   ]
  },
  {
   "cell_type": "code",
   "execution_count": null,
   "metadata": {
    "collapsed": true
   },
   "outputs": [],
   "source": [
    "#Is earliest cr line of interest? "
   ]
  },
  {
   "cell_type": "code",
   "execution_count": 141,
   "metadata": {
    "collapsed": false
   },
   "outputs": [
    {
     "data": {
      "text/plain": [
       "array([nan, 'ANY'], dtype=object)"
      ]
     },
     "execution_count": 141,
     "metadata": {},
     "output_type": "execute_result"
    }
   ],
   "source": [
    "loandata.home_ownership.unique()print(homeown_counts)print(homeown_counts)"
   ]
  },
  {
   "cell_type": "code",
   "execution_count": 145,
   "metadata": {
    "collapsed": false
   },
   "outputs": [
    {
     "data": {
      "image/png": "[encoded data removed]",
      "text/plain": [
       "<matplotlib.figure.Figure at 0x7f89cc94fef0>"
      ]
     },
     "metadata": {},
     "output_type": "display_data"
    }
   ],
   "source": [
    "#How does home ownership indicate a loan status or value? \n",
    "loans_group_homeown = loandata.groupby('home_ownership')\n",
    "homeown_counts = loans_group_homeown.size()\n",
    "\n",
    "my_plot = homeown_counts.plot(kind='bar')"
   ]
  },
  {
   "cell_type": "code",
   "execution_count": 149,
   "metadata": {
    "collapsed": false
   },
   "outputs": [],
   "source": [
    "#How is lending club loans grown?\n",
    "\n",
    "loanbook$issue_d <- as.Date(gsub(\"^\", \"01-\", loanbook$issue_d), format=\"%d-%b-%Y\")\n",
    "\n",
    "amnt_df <- loanbook %>% \n",
    "  select(issue_d, loan_amnt) %>% \n",
    "  group_by(issue_d) %>% \n",
    "  summarise(Amount = sum(loan_amnt))\n",
    "\n",
    "ts_amnt <- ggplot(amnt_df, \n",
    "                  aes(x = issue_d, y = Amount))\n",
    "ts_amnt + geom_line() + xlab(\"Date issued\")"
   ]
  },
  {
   "cell_type": "code",
   "execution_count": 160,
   "metadata": {
    "collapsed": false
   },
   "outputs": [
    {
     "ename": "AttributeError",
     "evalue": "Cannot access callable attribute 'groupby' of 'DataFrameGroupBy' objects, try using the 'apply' method",
     "output_type": "error",
     "traceback": [
      "\u001b[0;31m---------------------------------------------------------------------------\u001b[0m",
      "\u001b[0;31mAttributeError\u001b[0m                            Traceback (most recent call last)",
      "\u001b[0;32m<ipython-input-160-0064ef5db856>\u001b[0m in \u001b[0;36m<module>\u001b[0;34m()\u001b[0m\n\u001b[0;32m----> 1\u001b[0;31m \u001b[0mloandata\u001b[0m \u001b[0;34m=\u001b[0m \u001b[0mloandata\u001b[0m\u001b[0;34m.\u001b[0m\u001b[0mgroupby\u001b[0m\u001b[0;34m(\u001b[0m\u001b[0;34m'issue_d'\u001b[0m\u001b[0;34m)\u001b[0m\u001b[0;34m\u001b[0m\u001b[0m\n\u001b[0m",
      "\u001b[0;32m/home/pizzle/anaconda3/lib/python3.6/site-packages/pandas/core/groupby.py\u001b[0m in \u001b[0;36m__getattr__\u001b[0;34m(self, attr)\u001b[0m\n\u001b[1;32m    524\u001b[0m             \u001b[0;32mreturn\u001b[0m \u001b[0mself\u001b[0m\u001b[0;34m[\u001b[0m\u001b[0mattr\u001b[0m\u001b[0;34m]\u001b[0m\u001b[0;34m\u001b[0m\u001b[0m\n\u001b[1;32m    525\u001b[0m         \u001b[0;32mif\u001b[0m \u001b[0mhasattr\u001b[0m\u001b[0;34m(\u001b[0m\u001b[0mself\u001b[0m\u001b[0;34m.\u001b[0m\u001b[0mobj\u001b[0m\u001b[0;34m,\u001b[0m \u001b[0mattr\u001b[0m\u001b[0;34m)\u001b[0m\u001b[0;34m:\u001b[0m\u001b[0;34m\u001b[0m\u001b[0m\n\u001b[0;32m--> 526\u001b[0;31m             \u001b[0;32mreturn\u001b[0m \u001b[0mself\u001b[0m\u001b[0;34m.\u001b[0m\u001b[0m_make_wrapper\u001b[0m\u001b[0;34m(\u001b[0m\u001b[0mattr\u001b[0m\u001b[0;34m)\u001b[0m\u001b[0;34m\u001b[0m\u001b[0m\n\u001b[0m\u001b[1;32m    527\u001b[0m \u001b[0;34m\u001b[0m\u001b[0m\n\u001b[1;32m    528\u001b[0m         raise AttributeError(\"%r object has no attribute %r\" %\n",
      "\u001b[0;32m/home/pizzle/anaconda3/lib/python3.6/site-packages/pandas/core/groupby.py\u001b[0m in \u001b[0;36m_make_wrapper\u001b[0;34m(self, name)\u001b[0m\n\u001b[1;32m    538\u001b[0m                    \"using the 'apply' method\".format(kind, name,\n\u001b[1;32m    539\u001b[0m                                                      type(self).__name__))\n\u001b[0;32m--> 540\u001b[0;31m             \u001b[0;32mraise\u001b[0m \u001b[0mAttributeError\u001b[0m\u001b[0;34m(\u001b[0m\u001b[0mmsg\u001b[0m\u001b[0;34m)\u001b[0m\u001b[0;34m\u001b[0m\u001b[0m\n\u001b[0m\u001b[1;32m    541\u001b[0m \u001b[0;34m\u001b[0m\u001b[0m\n\u001b[1;32m    542\u001b[0m         \u001b[0;31m# need to setup the selection\u001b[0m\u001b[0;34m\u001b[0m\u001b[0;34m\u001b[0m\u001b[0m\n",
      "\u001b[0;31mAttributeError\u001b[0m: Cannot access callable attribute 'groupby' of 'DataFrameGroupBy' objects, try using the 'apply' method"
     ]
    }
   ],
   "source": [
    "loandata = loandata.groupby('issue_d')"
   ]
  },
  {
   "cell_type": "code",
   "execution_count": 159,
   "metadata": {
    "collapsed": false
   },
   "outputs": [
    {
     "ename": "AttributeError",
     "evalue": "Cannot access callable attribute 'groupby' of 'SeriesGroupBy' objects, try using the 'apply' method",
     "output_type": "error",
     "traceback": [
      "\u001b[0;31m---------------------------------------------------------------------------\u001b[0m",
      "\u001b[0;31mAttributeError\u001b[0m                            Traceback (most recent call last)",
      "\u001b[0;32m<ipython-input-159-9d53d539f53f>\u001b[0m in \u001b[0;36m<module>\u001b[0;34m()\u001b[0m\n\u001b[0;32m----> 1\u001b[0;31m \u001b[0mloandata\u001b[0m\u001b[0;34m[\u001b[0m\u001b[0;34m'sum'\u001b[0m\u001b[0;34m]\u001b[0m \u001b[0;34m=\u001b[0m \u001b[0mloandata\u001b[0m\u001b[0;34m[\u001b[0m\u001b[0;34m'loan_amnt'\u001b[0m\u001b[0;34m]\u001b[0m\u001b[0;34m.\u001b[0m\u001b[0mgroupby\u001b[0m\u001b[0;34m(\u001b[0m\u001b[0mloandata\u001b[0m\u001b[0;34m[\u001b[0m\u001b[0;34m'issue_d'\u001b[0m\u001b[0;34m]\u001b[0m\u001b[0;34m)\u001b[0m\u001b[0;34m.\u001b[0m\u001b[0mtransform\u001b[0m\u001b[0;34m(\u001b[0m\u001b[0;34m'sum'\u001b[0m\u001b[0;34m)\u001b[0m\u001b[0;34m\u001b[0m\u001b[0m\n\u001b[0m",
      "\u001b[0;32m/home/pizzle/anaconda3/lib/python3.6/site-packages/pandas/core/groupby.py\u001b[0m in \u001b[0;36m__getattr__\u001b[0;34m(self, attr)\u001b[0m\n\u001b[1;32m    524\u001b[0m             \u001b[0;32mreturn\u001b[0m \u001b[0mself\u001b[0m\u001b[0;34m[\u001b[0m\u001b[0mattr\u001b[0m\u001b[0;34m]\u001b[0m\u001b[0;34m\u001b[0m\u001b[0m\n\u001b[1;32m    525\u001b[0m         \u001b[0;32mif\u001b[0m \u001b[0mhasattr\u001b[0m\u001b[0;34m(\u001b[0m\u001b[0mself\u001b[0m\u001b[0;34m.\u001b[0m\u001b[0mobj\u001b[0m\u001b[0;34m,\u001b[0m \u001b[0mattr\u001b[0m\u001b[0;34m)\u001b[0m\u001b[0;34m:\u001b[0m\u001b[0;34m\u001b[0m\u001b[0m\n\u001b[0;32m--> 526\u001b[0;31m             \u001b[0;32mreturn\u001b[0m \u001b[0mself\u001b[0m\u001b[0;34m.\u001b[0m\u001b[0m_make_wrapper\u001b[0m\u001b[0;34m(\u001b[0m\u001b[0mattr\u001b[0m\u001b[0;34m)\u001b[0m\u001b[0;34m\u001b[0m\u001b[0m\n\u001b[0m\u001b[1;32m    527\u001b[0m \u001b[0;34m\u001b[0m\u001b[0m\n\u001b[1;32m    528\u001b[0m         raise AttributeError(\"%r object has no attribute %r\" %\n",
      "\u001b[0;32m/home/pizzle/anaconda3/lib/python3.6/site-packages/pandas/core/groupby.py\u001b[0m in \u001b[0;36m_make_wrapper\u001b[0;34m(self, name)\u001b[0m\n\u001b[1;32m    538\u001b[0m                    \"using the 'apply' method\".format(kind, name,\n\u001b[1;32m    539\u001b[0m                                                      type(self).__name__))\n\u001b[0;32m--> 540\u001b[0;31m             \u001b[0;32mraise\u001b[0m \u001b[0mAttributeError\u001b[0m\u001b[0;34m(\u001b[0m\u001b[0mmsg\u001b[0m\u001b[0;34m)\u001b[0m\u001b[0;34m\u001b[0m\u001b[0m\n\u001b[0m\u001b[1;32m    541\u001b[0m \u001b[0;34m\u001b[0m\u001b[0m\n\u001b[1;32m    542\u001b[0m         \u001b[0;31m# need to setup the selection\u001b[0m\u001b[0;34m\u001b[0m\u001b[0;34m\u001b[0m\u001b[0m\n",
      "\u001b[0;31mAttributeError\u001b[0m: Cannot access callable attribute 'groupby' of 'SeriesGroupBy' objects, try using the 'apply' method"
     ]
    }
   ],
   "source": [
    "loandata['sum'] = loandata['loan_amnt'].groupby(loandata['issue_d']).transform('sum')"
   ]
  },
  {
   "cell_type": "code",
   "execution_count": 174,
   "metadata": {
    "collapsed": false
   },
   "outputs": [],
   "source": [
    "#loandata.int_rate = \n",
    "loandata.int_rate = loandata.int_rate.apply(lambda x: x.str.rstrip('%').astype(float))\n",
    "#loandata.loan_amnt = loandata.loan_amnt.(float)"
   ]
  },
  {
   "cell_type": "code",
   "execution_count": 176,
   "metadata": {
    "collapsed": false
   },
   "outputs": [],
   "source": [
    "loandata.loan_amnt = loandata.loan_amnt.apply(lambda x: x.astype(float))"
   ]
  },
  {
   "cell_type": "code",
   "execution_count": 198,
   "metadata": {
    "collapsed": false
   },
   "outputs": [
    {
     "data": {
      "image/png": "[encoded data removed]",
      "text/plain": [
       "<matplotlib.figure.Figure at 0x7f89c096bda0>"
      ]
     },
     "metadata": {},
     "output_type": "display_data"
    }
   ],
   "source": [
    "plt.scatter(loandata.int_rate, loandata.loan_amnt)\n",
    "plt.xscale('log')\n",
    "plt.show()"
   ]
  },
  {
   "cell_type": "code",
   "execution_count": 182,
   "metadata": {
    "collapsed": true
   },
   "outputs": [],
   "source": [
    "loandata.annual_inc = loandata.annual_inc.apply(lambda x: x.astype(float))"
   ]
  },
  {
   "cell_type": "code",
   "execution_count": 183,
   "metadata": {
    "collapsed": false
   },
   "outputs": [
    {
     "data": {
      "image/png": "[encoded data removed]",
      "text/plain": [
       "<matplotlib.figure.Figure at 0x7f89c194ceb8>"
      ]
     },
     "metadata": {},
     "output_type": "display_data"
    }
   ],
   "source": [
    "plt.scatter(loandata.annual_inc, loandata.int_rate)\n",
    "plt.show()"
   ]
  },
  {
   "cell_type": "code",
   "execution_count": 185,
   "metadata": {
    "collapsed": false
   },
   "outputs": [
    {
     "data": {
      "image/png": "[encoded data removed]",
      "text/plain": [
       "<matplotlib.figure.Figure at 0x7f89c189aeb8>"
      ]
     },
     "metadata": {},
     "output_type": "display_data"
    }
   ],
   "source": [
    "plt.scatter(loandata.annual_inc, loandata.loan_amnt)\n",
    "plt.show()"
   ]
  },
  {
   "cell_type": "code",
   "execution_count": 193,
   "metadata": {
    "collapsed": false
   },
   "outputs": [
    {
     "data": {
      "image/png": "[encoded data removed]",
      "text/plain": [
       "<matplotlib.figure.Figure at 0x7f89c15a2780>"
      ]
     },
     "metadata": {},
     "output_type": "display_data"
    }
   ],
   "source": [
    "plt.scatter(loandata.annual_inc, loandata.loan_amnt)\n",
    "plt.yscale('log')\n",
    "plt.show()"
   ]
  },
  {
   "cell_type": "code",
   "execution_count": 195,
   "metadata": {
    "collapsed": false
   },
   "outputs": [
    {
     "data": {
      "image/png": "[encoded data removed]",
      "text/plain": [
       "<matplotlib.figure.Figure at 0x7f89c1271588>"
      ]
     },
     "metadata": {},
     "output_type": "display_data"
    }
   ],
   "source": [
    "plt.scatter(loandata.annual_inc, loandata.loan_amnt)\n",
    "plt.xscale('log')\n",
    "plt.yscale('log')\n",
    "plt.show()"
   ]
  },
  {
   "cell_type": "code",
   "execution_count": null,
   "metadata": {
    "collapsed": true
   },
   "outputs": [],
   "source": []
  }
 ],
 "metadata": {
  "kernelspec": {
   "display_name": "Python 3",
   "language": "python",
   "name": "python3"
  },
  "language_info": {
   "codemirror_mode": {
    "name": "ipython",
    "version": 3
   },
   "file_extension": ".py",
   "mimetype": "text/x-python",
   "name": "python",
   "nbconvert_exporter": "python",
   "pygments_lexer": "ipython3",
   "version": "3.6.0"
  },
  "varInspector": {
   "cols": {
    "lenName": 16,
    "lenType": 16,
    "lenVar": 40
   },
   "kernels_config": {
    "python": {
     "delete_cmd_postfix": "",
     "delete_cmd_prefix": "del ",
     "library": "var_list.py",
     "varRefreshCmd": "print(var_dic_list())"
    },
    "r": {
     "delete_cmd_postfix": ") ",
     "delete_cmd_prefix": "rm(",
     "library": "var_list.r",
     "varRefreshCmd": "cat(var_dic_list()) "
    }
   },
   "types_to_exclude": [
    "module",
    "function",
    "builtin_function_or_method",
    "instance",
    "_Feature"
   ],
   "window_display": false
  }
 },
 "nbformat": 4,
 "nbformat_minor": 2
}
