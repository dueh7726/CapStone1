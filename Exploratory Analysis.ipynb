{
 "cells": [
  {
   "cell_type": "code",
   "execution_count": 1,
   "metadata": {
    "collapsed": false
   },
   "outputs": [],
   "source": [
    "import numpy as np # linear algebra\n",
    "import pandas as pd # data processing, CSV file I/O (e.g. pd.read_csv)\n",
    "import sqlite3\n",
    "%matplotlib inline\n",
    "import matplotlib \n",
    "import math\n",
    "import seaborn as sns"
   ]
  },
  {
   "cell_type": "code",
   "execution_count": 2,
   "metadata": {
    "collapsed": false
   },
   "outputs": [],
   "source": [
    "connex = sqlite3.connect('database.sqlite')\n",
    "cur = connex.cursor()"
   ]
  },
  {
   "cell_type": "code",
   "execution_count": 3,
   "metadata": {
    "collapsed": false
   },
   "outputs": [],
   "source": [
    "loanbook = pd.read_sql_query('select * from loan;', connex)\n"
   ]
  },
  {
   "cell_type": "code",
   "execution_count": 4,
   "metadata": {
    "collapsed": false
   },
   "outputs": [
    {
     "data": {
      "text/plain": [
       "['index',\n",
       " 'id',\n",
       " 'member_id',\n",
       " 'loan_amnt',\n",
       " 'funded_amnt',\n",
       " 'funded_amnt_inv',\n",
       " 'term',\n",
       " 'int_rate',\n",
       " 'installment',\n",
       " 'grade',\n",
       " 'sub_grade',\n",
       " 'emp_title',\n",
       " 'emp_length',\n",
       " 'home_ownership',\n",
       " 'annual_inc',\n",
       " 'verification_status',\n",
       " 'issue_d',\n",
       " 'loan_status',\n",
       " 'pymnt_plan',\n",
       " 'url',\n",
       " 'desc',\n",
       " 'purpose',\n",
       " 'title',\n",
       " 'zip_code',\n",
       " 'addr_state',\n",
       " 'dti',\n",
       " 'delinq_2yrs',\n",
       " 'earliest_cr_line',\n",
       " 'inq_last_6mths',\n",
       " 'mths_since_last_delinq',\n",
       " 'mths_since_last_record',\n",
       " 'open_acc',\n",
       " 'pub_rec',\n",
       " 'revol_bal',\n",
       " 'revol_util',\n",
       " 'total_acc',\n",
       " 'initial_list_status',\n",
       " 'out_prncp',\n",
       " 'out_prncp_inv',\n",
       " 'total_pymnt',\n",
       " 'total_pymnt_inv',\n",
       " 'total_rec_prncp',\n",
       " 'total_rec_int',\n",
       " 'total_rec_late_fee',\n",
       " 'recoveries',\n",
       " 'collection_recovery_fee',\n",
       " 'last_pymnt_d',\n",
       " 'last_pymnt_amnt',\n",
       " 'next_pymnt_d',\n",
       " 'last_credit_pull_d',\n",
       " 'collections_12_mths_ex_med',\n",
       " 'mths_since_last_major_derog',\n",
       " 'policy_code',\n",
       " 'application_type',\n",
       " 'annual_inc_joint',\n",
       " 'dti_joint',\n",
       " 'verification_status_joint',\n",
       " 'acc_now_delinq',\n",
       " 'tot_coll_amt',\n",
       " 'tot_cur_bal',\n",
       " 'open_acc_6m',\n",
       " 'open_il_6m',\n",
       " 'open_il_12m',\n",
       " 'open_il_24m',\n",
       " 'mths_since_rcnt_il',\n",
       " 'total_bal_il',\n",
       " 'il_util',\n",
       " 'open_rv_12m',\n",
       " 'open_rv_24m',\n",
       " 'max_bal_bc',\n",
       " 'all_util',\n",
       " 'total_rev_hi_lim',\n",
       " 'inq_fi',\n",
       " 'total_cu_tl',\n",
       " 'inq_last_12m']"
      ]
     },
     "execution_count": 4,
     "metadata": {},
     "output_type": "execute_result"
    }
   ],
   "source": [
    "list(loanbook)"
   ]
  },
  {
   "cell_type": "code",
   "execution_count": 5,
   "metadata": {
    "collapsed": false
   },
   "outputs": [
    {
     "name": "stdout",
     "output_type": "stream",
     "text": [
      "  home_ownership addr_state  annual_inc  revol_bal    dti emp_length  \\\n",
      "0           RENT         AZ     24000.0    13648.0  27.65  10+ years   \n",
      "1           RENT         GA     30000.0     1687.0   1.00   < 1 year   \n",
      "2           RENT         IL     12252.0     2956.0   8.72  10+ years   \n",
      "3           RENT         CA     49200.0     5598.0  20.00  10+ years   \n",
      "4           RENT         OR     80000.0    27783.0  17.94     1 year   \n",
      "5           RENT         AZ     36000.0     7963.0  11.20    3 years   \n",
      "6           RENT         NC     47004.0    17726.0  23.51    8 years   \n",
      "7           RENT         CA     48000.0     8221.0   5.35    9 years   \n",
      "8            OWN         CA     40000.0     5210.0   5.55    4 years   \n",
      "9           RENT         TX     15000.0     9279.0  18.08   < 1 year   \n",
      "\n",
      "   delinq_2yrs  total_acc  \n",
      "0          0.0        9.0  \n",
      "1          0.0        4.0  \n",
      "2          0.0       10.0  \n",
      "3          0.0       37.0  \n",
      "4          0.0       38.0  \n",
      "5          0.0       12.0  \n",
      "6          0.0       11.0  \n",
      "7          0.0        4.0  \n",
      "8          0.0       13.0  \n",
      "9          0.0        3.0  \n"
     ]
    }
   ],
   "source": [
    "sublnbk = loanbook[['home_ownership', 'addr_state', 'annual_inc', 'revol_bal', 'dti', 'emp_length', 'delinq_2yrs', 'total_acc']]\n",
    "print(sublnbk.head(10))"
   ]
  },
  {
   "cell_type": "code",
   "execution_count": 6,
   "metadata": {
    "collapsed": false
   },
   "outputs": [
    {
     "name": "stdout",
     "output_type": "stream",
     "text": [
      "   State   count\n",
      "0     CA  129518\n",
      "1     NY   74086\n",
      "2     TX   71138\n",
      "3     FL   60935\n",
      "4     IL   35476\n",
      "5     NJ   33256\n",
      "6     PA   31393\n",
      "7     OH   29631\n",
      "8     GA   29086\n",
      "9     VA   26255\n",
      "10    NC   24720\n",
      "11    MI   22985\n",
      "12    MD   21031\n",
      "13    MA   20594\n",
      "14    AZ   20412\n",
      "15    WA   19434\n",
      "16    CO   18807\n",
      "17    MN   15957\n",
      "18    MO   14207\n",
      "19    IN   13789\n"
     ]
    },
    {
     "data": {
      "image/png": "[encoded data removed]",
      "text/plain": [
       "<matplotlib.figure.Figure at 0x7f0e0f7b53c8>"
      ]
     },
     "metadata": {},
     "output_type": "display_data"
    }
   ],
   "source": [
    "hm1 = pd.value_counts(sublnbk['addr_state']).to_frame().reset_index()\n",
    "hm1.columns = ['State','count']\n",
    "\n",
    "print(hm1.head(20))\n",
    "def state_loans(graph_title):\n",
    "    \n",
    "    sns.set_style(\"whitegrid\")\n",
    "    ax = sns.barplot(y=\"count\", x='State', data=hm1)\n",
    "    ax.set(xlabel = '', ylabel='', title = graph_title)\n",
    "    ax.get_yaxis().set_major_formatter(matplotlib.ticker.FuncFormatter(lambda x, p: format(int(x), ',')))\n",
    "    _ = ax.set_xticklabels(ax.get_xticklabels(), rotation=0)\n",
    "    \n",
    "state_loans('Most Common States')"
   ]
  },
  {
   "cell_type": "code",
   "execution_count": 7,
   "metadata": {
    "collapsed": false
   },
   "outputs": [
    {
     "ename": "NameError",
     "evalue": "name 'plt' is not defined",
     "output_type": "error",
     "traceback": [
      "\u001b[0;31m---------------------------------------------------------------------------\u001b[0m",
      "\u001b[0;31mNameError\u001b[0m                                 Traceback (most recent call last)",
      "\u001b[0;32m<ipython-input-7-29d3b0b7e318>\u001b[0m in \u001b[0;36m<module>\u001b[0;34m()\u001b[0m\n\u001b[0;32m----> 1\u001b[0;31m \u001b[0mplt\u001b[0m\u001b[0;34m.\u001b[0m\u001b[0mhist\u001b[0m\u001b[0;34m(\u001b[0m\u001b[0msublnbk\u001b[0m\u001b[0;34m[\u001b[0m\u001b[0;34m'dti'\u001b[0m\u001b[0;34m]\u001b[0m\u001b[0;34m)\u001b[0m\u001b[0;34m\u001b[0m\u001b[0m\n\u001b[0m\u001b[1;32m      2\u001b[0m \u001b[0mfig\u001b[0m \u001b[0;34m=\u001b[0m \u001b[0mplt\u001b[0m\u001b[0;34m.\u001b[0m\u001b[0mgcf\u001b[0m\u001b[0;34m(\u001b[0m\u001b[0;34m)\u001b[0m\u001b[0;34m\u001b[0m\u001b[0m\n",
      "\u001b[0;31mNameError\u001b[0m: name 'plt' is not defined"
     ]
    }
   ],
   "source": [
    "plt.hist(sublnbk['dti'])\n",
    "fig = plt.gcf()"
   ]
  },
  {
   "cell_type": "code",
   "execution_count": 13,
   "metadata": {
    "collapsed": false,
    "scrolled": true
   },
   "outputs": [
    {
     "name": "stdout",
     "output_type": "stream",
     "text": [
      "0     Fully Paid\n",
      "1    Charged Off\n",
      "2     Fully Paid\n",
      "3     Fully Paid\n",
      "4        Current\n",
      "5     Fully Paid\n",
      "6        Current\n",
      "7     Fully Paid\n",
      "8    Charged Off\n",
      "9    Charged Off\n",
      "Name: loan_status, dtype: object\n"
     ]
    }
   ],
   "source": [
    "subber = loanbook['loan_status']\n",
    "\n",
    "print(subber.head(10))"
   ]
  },
  {
   "cell_type": "code",
   "execution_count": 9,
   "metadata": {
    "collapsed": false
   },
   "outputs": [],
   "source": [
    "lnsdesc = loanbook.describe()\n"
   ]
  },
  {
   "cell_type": "code",
   "execution_count": null,
   "metadata": {
    "collapsed": true
   },
   "outputs": [],
   "source": []
  },
  {
   "cell_type": "code",
   "execution_count": 11,
   "metadata": {
    "collapsed": false
   },
   "outputs": [
    {
     "name": "stdout",
     "output_type": "stream",
     "text": [
      "                                count          mean           std       min  \\\n",
      "index                        887383.0  1.521557e+05  1.110896e+05      0.00   \n",
      "member_id                    887382.0  3.500184e+07  2.411336e+07  70473.00   \n",
      "loan_amnt                    887382.0  1.475528e+04  8.435456e+03    500.00   \n",
      "funded_amnt                  887382.0  1.474189e+04  8.429899e+03    500.00   \n",
      "funded_amnt_inv              887382.0  1.470248e+04  8.442108e+03      0.00   \n",
      "installment                  887382.0  4.367176e+02  2.441866e+02     15.67   \n",
      "annual_inc                   887378.0  7.502761e+04  6.469823e+04      0.00   \n",
      "dti                          887382.0  1.815702e+01  1.719060e+01      0.00   \n",
      "delinq_2yrs                  887353.0  3.144453e-01  8.622475e-01      0.00   \n",
      "inq_last_6mths               887353.0  6.946221e-01  9.984466e-01      0.00   \n",
      "mths_since_last_delinq       433069.0  3.406370e+01  2.188494e+01      0.00   \n",
      "mths_since_last_record       137053.0  7.011790e+01  2.812791e+01      0.00   \n",
      "open_acc                     887353.0  1.154847e+01  5.317310e+00      0.00   \n",
      "pub_rec                      887353.0  1.953067e-01  5.820898e-01      0.00   \n",
      "revol_bal                    887382.0  1.692076e+04  2.242676e+04      0.00   \n",
      "total_acc                    887353.0  2.526803e+01  1.184055e+01      1.00   \n",
      "out_prncp                    887382.0  8.403143e+03  8.493466e+03      0.00   \n",
      "out_prncp_inv                887382.0  8.399731e+03  8.490014e+03      0.00   \n",
      "total_pymnt                  887382.0  7.558832e+03  7.871239e+03      0.00   \n",
      "total_pymnt_inv              887382.0  7.521166e+03  7.846104e+03      0.00   \n",
      "total_rec_prncp              887382.0  5.757706e+03  6.625434e+03      0.00   \n",
      "total_rec_int                887382.0  1.754810e+03  2.095368e+03      0.00   \n",
      "total_rec_late_fee           887382.0  3.966905e-01  4.087818e+00      0.00   \n",
      "recoveries                   887382.0  4.591909e+01  4.096932e+02      0.00   \n",
      "collection_recovery_fee      887382.0  4.880741e+00  6.312517e+01      0.00   \n",
      "last_pymnt_amnt              887382.0  2.164149e+03  4.794780e+03      0.00   \n",
      "collections_12_mths_ex_med   887237.0  1.437947e-02  1.341905e-01      0.00   \n",
      "mths_since_last_major_derog  221704.0  4.410472e+01  2.217986e+01      0.00   \n",
      "policy_code                  887382.0  1.000000e+00  0.000000e+00      1.00   \n",
      "annual_inc_joint                511.0  1.099810e+05  5.273038e+04  17950.00   \n",
      "dti_joint                       509.0  1.831012e+01  7.169233e+00      3.00   \n",
      "acc_now_delinq               887353.0  4.991249e-03  7.762521e-02      0.00   \n",
      "tot_coll_amt                 817106.0  2.257020e+02  1.031135e+04      0.00   \n",
      "tot_cur_bal                  817106.0  1.394579e+05  1.537498e+05      0.00   \n",
      "open_acc_6m                   21372.0  1.109021e+00  1.242675e+00      0.00   \n",
      "open_il_6m                    21372.0  2.928832e+00  3.089987e+00      0.00   \n",
      "open_il_12m                   21372.0  7.616508e-01  9.960346e-01      0.00   \n",
      "open_il_24m                   21372.0  1.674574e+00  1.688725e+00      0.00   \n",
      "mths_since_rcnt_il            20810.0  2.091269e+01  2.720908e+01      0.00   \n",
      "total_bal_il                  21372.0  3.655281e+04  4.310383e+04      0.00   \n",
      "il_util                       18617.0  7.153532e+01  2.302286e+01      0.00   \n",
      "open_rv_12m                   21372.0  1.389060e+00  1.520129e+00      0.00   \n",
      "open_rv_24m                   21372.0  2.975482e+00  2.631886e+00      0.00   \n",
      "max_bal_bc                    21372.0  5.887980e+03  5.284701e+03      0.00   \n",
      "all_util                      21372.0  6.083194e+01  2.001325e+01      0.00   \n",
      "total_rev_hi_lim             817106.0  3.206868e+04  3.749833e+04      0.00   \n",
      "inq_fi                        21372.0  9.439453e-01  1.446872e+00      0.00   \n",
      "total_cu_tl                   21372.0  1.537058e+00  2.723339e+00      0.00   \n",
      "inq_last_12m                  21372.0  1.977307e+00  2.874067e+00     -4.00   \n",
      "\n",
      "                                     25%           50%           75%  \\\n",
      "index                           59769.50  1.337180e+05  2.174385e+05   \n",
      "member_id                    10877133.25  3.709528e+07  5.847135e+07   \n",
      "loan_amnt                        8000.00  1.300000e+04  2.000000e+04   \n",
      "funded_amnt                      8000.00  1.300000e+04  2.000000e+04   \n",
      "funded_amnt_inv                  8000.00  1.300000e+04  2.000000e+04   \n",
      "installment                       260.71  3.825500e+02  5.726000e+02   \n",
      "annual_inc                      45000.00  6.500000e+04  9.000000e+04   \n",
      "dti                                11.91  1.765000e+01  2.395000e+01   \n",
      "delinq_2yrs                         0.00  0.000000e+00  0.000000e+00   \n",
      "inq_last_6mths                      0.00  0.000000e+00  1.000000e+00   \n",
      "mths_since_last_delinq             15.00  3.100000e+01  5.000000e+01   \n",
      "mths_since_last_record             51.00  7.000000e+01  9.200000e+01   \n",
      "open_acc                            8.00  1.100000e+01  1.400000e+01   \n",
      "pub_rec                             0.00  0.000000e+00  0.000000e+00   \n",
      "revol_bal                        6443.00  1.187500e+04  2.082900e+04   \n",
      "total_acc                          17.00  2.400000e+01  3.200000e+01   \n",
      "out_prncp                           0.00  6.458425e+03  1.365935e+04   \n",
      "out_prncp_inv                       0.00  6.455825e+03  1.365405e+04   \n",
      "total_pymnt                      1914.59  4.895000e+03  1.061686e+04   \n",
      "total_pymnt_inv                  1899.70  4.862010e+03  1.056577e+04   \n",
      "total_rec_prncp                  1200.57  3.215320e+03  8.000000e+03   \n",
      "total_rec_int                     441.46  1.073280e+03  2.238267e+03   \n",
      "total_rec_late_fee                  0.00  0.000000e+00  0.000000e+00   \n",
      "recoveries                          0.00  0.000000e+00  0.000000e+00   \n",
      "collection_recovery_fee             0.00  0.000000e+00  0.000000e+00   \n",
      "last_pymnt_amnt                   280.17  4.627900e+02  8.312500e+02   \n",
      "collections_12_mths_ex_med          0.00  0.000000e+00  0.000000e+00   \n",
      "mths_since_last_major_derog        27.00  4.400000e+01  6.100000e+01   \n",
      "policy_code                         1.00  1.000000e+00  1.000000e+00   \n",
      "annual_inc_joint                76032.50  1.017710e+05  1.328000e+05   \n",
      "dti_joint                          13.20  1.761000e+01  2.265000e+01   \n",
      "acc_now_delinq                      0.00  0.000000e+00  0.000000e+00   \n",
      "tot_coll_amt                        0.00  0.000000e+00  0.000000e+00   \n",
      "tot_cur_bal                     29853.00  8.055850e+04  2.082050e+05   \n",
      "open_acc_6m                         0.00  1.000000e+00  2.000000e+00   \n",
      "open_il_6m                          1.00  2.000000e+00  4.000000e+00   \n",
      "open_il_12m                         0.00  0.000000e+00  1.000000e+00   \n",
      "open_il_24m                         0.00  1.000000e+00  2.000000e+00   \n",
      "mths_since_rcnt_il                  6.00  1.200000e+01  2.300000e+01   \n",
      "total_bal_il                    10251.50  2.468450e+04  4.785800e+04   \n",
      "il_util                            58.60  7.490000e+01  8.760000e+01   \n",
      "open_rv_12m                         0.00  1.000000e+00  2.000000e+00   \n",
      "open_rv_24m                         1.00  2.000000e+00  4.000000e+00   \n",
      "max_bal_bc                       2411.00  4.483000e+03  7.771500e+03   \n",
      "all_util                           47.70  6.190000e+01  7.520000e+01   \n",
      "total_rev_hi_lim                13900.00  2.370000e+04  3.980000e+04   \n",
      "inq_fi                              0.00  0.000000e+00  1.000000e+00   \n",
      "total_cu_tl                         0.00  0.000000e+00  2.000000e+00   \n",
      "inq_last_12m                        0.00  2.000000e+00  3.000000e+00   \n",
      "\n",
      "                                      max  \n",
      "index                        4.210940e+05  \n",
      "member_id                    7.354484e+07  \n",
      "loan_amnt                    3.500000e+04  \n",
      "funded_amnt                  3.500000e+04  \n",
      "funded_amnt_inv              3.500000e+04  \n",
      "installment                  1.445460e+03  \n",
      "annual_inc                   9.500000e+06  \n",
      "dti                          9.999000e+03  \n",
      "delinq_2yrs                  3.900000e+01  \n",
      "inq_last_6mths               3.300000e+01  \n",
      "mths_since_last_delinq       1.880000e+02  \n",
      "mths_since_last_record       1.290000e+02  \n",
      "open_acc                     9.000000e+01  \n",
      "pub_rec                      8.600000e+01  \n",
      "revol_bal                    2.904836e+06  \n",
      "total_acc                    1.690000e+02  \n",
      "out_prncp                    4.937286e+04  \n",
      "out_prncp_inv                4.937286e+04  \n",
      "total_pymnt                  5.777758e+04  \n",
      "total_pymnt_inv              5.777758e+04  \n",
      "total_rec_prncp              3.500003e+04  \n",
      "total_rec_int                2.420562e+04  \n",
      "total_rec_late_fee           3.586800e+02  \n",
      "recoveries                   3.352027e+04  \n",
      "collection_recovery_fee      7.002190e+03  \n",
      "last_pymnt_amnt              3.647559e+04  \n",
      "collections_12_mths_ex_med   2.000000e+01  \n",
      "mths_since_last_major_derog  1.880000e+02  \n",
      "policy_code                  1.000000e+00  \n",
      "annual_inc_joint             5.000000e+05  \n",
      "dti_joint                    4.386000e+01  \n",
      "acc_now_delinq               1.400000e+01  \n",
      "tot_coll_amt                 9.152545e+06  \n",
      "tot_cur_bal                  8.000078e+06  \n",
      "open_acc_6m                  1.400000e+01  \n",
      "open_il_6m                   4.000000e+01  \n",
      "open_il_12m                  1.200000e+01  \n",
      "open_il_24m                  1.900000e+01  \n",
      "mths_since_rcnt_il           3.630000e+02  \n",
      "total_bal_il                 8.784590e+05  \n",
      "il_util                      2.233000e+02  \n",
      "open_rv_12m                  2.200000e+01  \n",
      "open_rv_24m                  4.300000e+01  \n",
      "max_bal_bc                   1.273050e+05  \n",
      "all_util                     1.514000e+02  \n",
      "total_rev_hi_lim             9.999999e+06  \n",
      "inq_fi                       1.700000e+01  \n",
      "total_cu_tl                  3.500000e+01  \n",
      "inq_last_12m                 3.200000e+01  \n"
     ]
    }
   ],
   "source": [
    "print(lnsdesc.transpose())"
   ]
  },
  {
   "cell_type": "code",
   "execution_count": null,
   "metadata": {
    "collapsed": false
   },
   "outputs": [],
   "source": [
    "print(lnsdesc.ix[:,:10])"
   ]
  },
  {
   "cell_type": "code",
   "execution_count": null,
   "metadata": {
    "collapsed": false
   },
   "outputs": [],
   "source": [
    "print(lnsdesc.ix[:,10:20])"
   ]
  },
  {
   "cell_type": "code",
   "execution_count": null,
   "metadata": {
    "collapsed": false
   },
   "outputs": [],
   "source": [
    "print(lnsdesc.ix[:,20:30])"
   ]
  },
  {
   "cell_type": "code",
   "execution_count": null,
   "metadata": {
    "collapsed": false
   },
   "outputs": [],
   "source": [
    "print(lnsdesc.ix[:,30:40])"
   ]
  },
  {
   "cell_type": "code",
   "execution_count": null,
   "metadata": {
    "collapsed": false
   },
   "outputs": [],
   "source": [
    "print(lnsdesc.ix[:,40:49])"
   ]
  },
  {
   "cell_type": "code",
   "execution_count": null,
   "metadata": {
    "collapsed": false
   },
   "outputs": [],
   "source": [
    "hm = pd.value_counts(loanbook['emp_length']).to_frame().reset_index()\n",
    "hm.columns = ['type','count']\n",
    "\n",
    "def emp_dur_graph(graph_title):\n",
    "    \n",
    "    sns.set_style(\"whitegrid\")\n",
    "    ax = sns.barplot(y=\"count\", x='type', data=hm)\n",
    "    ax.set(xlabel = '', ylabel='', title = graph_title)\n",
    "    ax.get_yaxis().set_major_formatter(matplotlib.ticker.FuncFormatter(lambda x, p: format(int(x), ',')))\n",
    "    _ = ax.set_xticklabels(ax.get_xticklabels(), rotation=0)\n",
    "    \n",
    "emp_dur_graph('Distribution of employment length for issued loans')"
   ]
  },
  {
   "cell_type": "code",
   "execution_count": null,
   "metadata": {
    "collapsed": false
   },
   "outputs": [],
   "source": [
    "print(plt.style.available)"
   ]
  },
  {
   "cell_type": "code",
   "execution_count": null,
   "metadata": {
    "collapsed": false
   },
   "outputs": [],
   "source": [
    "plt.style.use('ggplot')\n",
    "ax = emp_dur_graph('ggplot style')"
   ]
  },
  {
   "cell_type": "code",
   "execution_count": null,
   "metadata": {
    "collapsed": false
   },
   "outputs": [],
   "source": [
    "hm = pd.value_counts(loanbook['home_ownership']).to_frame().reset_index()\n",
    "hm.columns = ['type','count']\n",
    "\n",
    "def emp_dur_graph(graph_title):\n",
    "    \n",
    "    sns.set_style(\"whitegrid\")\n",
    "    ax = sns.barplot(y=\"count\", x='type', data=hm)\n",
    "    ax.set(xlabel = '', ylabel='', title = graph_title)\n",
    "    ax.get_yaxis().set_major_formatter(matplotlib.ticker.FuncFormatter(lambda x, p: format(int(x), ',')))\n",
    "    _ = ax.set_xticklabels(ax.get_xticklabels(), rotation=0)\n",
    "    \n",
    "emp_dur_graph('Distribution of home ownership for issued loans')"
   ]
  },
  {
   "cell_type": "code",
   "execution_count": null,
   "metadata": {
    "collapsed": false
   },
   "outputs": [],
   "source": [
    "hm = pd.value_counts(loanbook['int_rate']).to_frame().reset_index()\n",
    "hm.columns = ['type','count']\n",
    "\n",
    "def emp_dur_graph(graph_title):\n",
    "    \n",
    "    sns.set_style(\"whitegrid\")\n",
    "    ax = sns.scatterplot(y=\"count\", x='type', data=hm)\n",
    "    ax.set(xlabel = '', ylabel='', title = graph_title)\n",
    "    ax.get_yaxis().set_major_formatter(matplotlib.ticker.FuncFormatter(lambda x, p: format(int(x), ',')))\n",
    "    _ = ax.set_xticklabels(ax.get_xticklabels(), rotation=0)\n",
    "    \n",
    "emp_dur_graph('Distribution of employment length for issued loans')"
   ]
  },
  {
   "cell_type": "code",
   "execution_count": null,
   "metadata": {
    "collapsed": false
   },
   "outputs": [],
   "source": [
    "import datetime\n",
    "\n",
    "loanbook.issue_d.fillna(value=np.nan,inplace=True)\n",
    "issue_d_todate = pd.to_datetime(loanbook.issue_d)\n",
    "loanbook.issue_d = pd.Series(loanbook.issue_d).str.replace('-2015','')\n",
    "loanbook.emp_length.fillna(value=np.nan,inplace=True)\n",
    "\n",
    "loanbook.drop(['loan_status'],1,inplace=True)\n",
    "\n",
    "loanbook.drop(['pymnt_plan','url','desc','title'],1,inplace=True)\n",
    "\n",
    "loanbook.earliest_cr_line = pd.to_datetime(loanbook.earliest_cr_line)\n",
    "import datetime as dt\n",
    "\n",
    "loanbook['earliest_cr_line_year'] = loanbook['earliest_cr_line'].dt.year\n"
   ]
  },
  {
   "cell_type": "code",
   "execution_count": null,
   "metadata": {
    "collapsed": false
   },
   "outputs": [],
   "source": [
    "import matplotlib.pyplot as plt\n",
    "\n",
    "s = pd.value_counts(loanbook['earliest_cr_line']).to_frame().reset_index()\n",
    "s.columns = ['date','count']\n",
    "\n",
    "s['year'] = s['date'].dt.year\n",
    "s['month'] = s['date'].dt.month\n",
    "\n",
    "d = s[s['year']>2008]\n",
    "\n",
    "plt.rcParams.update(plt.rcParamsDefault)\n",
    "sns.set_style(\"whitegrid\")\n",
    "\n",
    "g = sns.FacetGrid(d, col=\"year\")\n",
    "g = g.map(sns.pointplot, \"month\", \"count\")\n",
    "g.set(xlabel = 'Month', ylabel = '')\n",
    "axes = plt.gca()\n",
    "_ = axes.set_ylim([0, d.year.max()])\n",
    "plt.tight_layout()"
   ]
  },
  {
   "cell_type": "code",
   "execution_count": null,
   "metadata": {
    "collapsed": false
   },
   "outputs": [],
   "source": [
    "group = loanbook.groupby('grade').agg([np.mean])\n",
    "loan_amt_mean = group['loan_amnt'].reset_index()\n",
    "\n",
    "plt.style.use('fivethirtyeight')\n",
    "\n",
    "sns.set_style(\"whitegrid\")\n",
    "ax = sns.barplot(y=\"mean\", x = 'grade', data = loan_amt_mean)\n",
    "ax.set(xlabel='', ylabel = '', title = 'Average amount loan, by loan grade')\n",
    "ax.get_yaxis().set_major_formatter(matplotlib.ticker.FuncFormatter(lambda x, p: format(int(x), ',')))\n",
    "_ = ax.set_xticklabels(ax.get_xticklabels(), rotation=0)"
   ]
  },
  {
   "cell_type": "code",
   "execution_count": null,
   "metadata": {
    "collapsed": true
   },
   "outputs": [],
   "source": []
  }
 ],
 "metadata": {
  "kernelspec": {
   "display_name": "Python 3",
   "language": "python",
   "name": "python3"
  },
  "language_info": {
   "codemirror_mode": {
    "name": "ipython",
    "version": 3
   },
   "file_extension": ".py",
   "mimetype": "text/x-python",
   "name": "python",
   "nbconvert_exporter": "python",
   "pygments_lexer": "ipython3",
   "version": "3.6.0"
  },
  "varInspector": {
   "cols": {
    "lenName": 16,
    "lenType": 16,
    "lenVar": 40
   },
   "kernels_config": {
    "python": {
     "delete_cmd_postfix": "",
     "delete_cmd_prefix": "del ",
     "library": "var_list.py",
     "varRefreshCmd": "print(var_dic_list())"
    },
    "r": {
     "delete_cmd_postfix": ") ",
     "delete_cmd_prefix": "rm(",
     "library": "var_list.r",
     "varRefreshCmd": "cat(var_dic_list()) "
    }
   },
   "types_to_exclude": [
    "module",
    "function",
    "builtin_function_or_method",
    "instance",
    "_Feature"
   ],
   "window_display": false
  }
 },
 "nbformat": 4,
 "nbformat_minor": 2
}
