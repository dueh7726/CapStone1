{
 "cells": [
  {
   "cell_type": "code",
   "execution_count": 1,
   "metadata": {
    "collapsed": false
   },
   "outputs": [],
   "source": [
    "import numpy as np # linear algebra\n",
    "import pandas as pd # data processing, CSV file I/O (e.g. pd.read_csv)\n",
    "import sqlite3\n",
    "%matplotlib inline\n",
    "import matplotlib.pyplot as plt\n",
    "import math\n",
    "import seaborn as sns"
   ]
  },
  {
   "cell_type": "code",
   "execution_count": 2,
   "metadata": {
    "collapsed": false
   },
   "outputs": [],
   "source": [
    "#Create a sqlite3 connection to the database\n",
    "connex = sqlite3.connect('database.sqlite')\n",
    "cur = connex.cursor()"
   ]
  },
  {
   "cell_type": "code",
   "execution_count": 58,
   "metadata": {
    "collapsed": false
   },
   "outputs": [],
   "source": [
    "#Pull all data out of the database into a DataFrame\n",
    "loanbook = pd.read_sql_query('select * from loan;', connex)"
   ]
  },
  {
   "cell_type": "code",
   "execution_count": 4,
   "metadata": {
    "collapsed": false
   },
   "outputs": [
    {
     "data": {
      "text/plain": [
       "75"
      ]
     },
     "execution_count": 4,
     "metadata": {},
     "output_type": "execute_result"
    }
   ],
   "source": [
    "len(loanbook.columns)\n",
    "#Number of columns"
   ]
  },
  {
   "cell_type": "code",
   "execution_count": 5,
   "metadata": {
    "collapsed": false
   },
   "outputs": [
    {
     "data": {
      "text/plain": [
       "dti_joint                         509.0\n",
       "annual_inc_joint                  511.0\n",
       "il_util                         18617.0\n",
       "mths_since_rcnt_il              20810.0\n",
       "all_util                        21372.0\n",
       "total_cu_tl                     21372.0\n",
       "open_acc_6m                     21372.0\n",
       "open_il_6m                      21372.0\n",
       "open_il_12m                     21372.0\n",
       "open_il_24m                     21372.0\n",
       "inq_fi                          21372.0\n",
       "total_bal_il                    21372.0\n",
       "inq_last_12m                    21372.0\n",
       "max_bal_bc                      21372.0\n",
       "open_rv_12m                     21372.0\n",
       "open_rv_24m                     21372.0\n",
       "mths_since_last_record         137053.0\n",
       "mths_since_last_major_derog    221704.0\n",
       "mths_since_last_delinq         433069.0\n",
       "total_rev_hi_lim               817106.0\n",
       "tot_cur_bal                    817106.0\n",
       "tot_coll_amt                   817106.0\n",
       "collections_12_mths_ex_med     887237.0\n",
       "acc_now_delinq                 887353.0\n",
       "open_acc                       887353.0\n",
       "inq_last_6mths                 887353.0\n",
       "total_acc                      887353.0\n",
       "pub_rec                        887353.0\n",
       "delinq_2yrs                    887353.0\n",
       "annual_inc                     887378.0\n",
       "collection_recovery_fee        887382.0\n",
       "last_pymnt_amnt                887382.0\n",
       "member_id                      887382.0\n",
       "loan_amnt                      887382.0\n",
       "funded_amnt                    887382.0\n",
       "funded_amnt_inv                887382.0\n",
       "installment                    887382.0\n",
       "dti                            887382.0\n",
       "revol_bal                      887382.0\n",
       "out_prncp                      887382.0\n",
       "out_prncp_inv                  887382.0\n",
       "total_pymnt                    887382.0\n",
       "total_pymnt_inv                887382.0\n",
       "total_rec_prncp                887382.0\n",
       "total_rec_int                  887382.0\n",
       "total_rec_late_fee             887382.0\n",
       "recoveries                     887382.0\n",
       "policy_code                    887382.0\n",
       "index                          887383.0\n",
       "Name: count, dtype: float64"
      ]
     },
     "execution_count": 5,
     "metadata": {},
     "output_type": "execute_result"
    }
   ],
   "source": [
    "lbk_desc = loanbook.describe()\n",
    "lbk_desc.ix['count'].sort_values()"
   ]
  },
  {
   "cell_type": "code",
   "execution_count": 112,
   "metadata": {
    "collapsed": false
   },
   "outputs": [
    {
     "data": {
      "text/plain": [
       "19"
      ]
     },
     "execution_count": 112,
     "metadata": {},
     "output_type": "execute_result"
    }
   ],
   "source": [
    "dropcols = lbk_desc.ix['count'] < (lbk_desc.ix['count'].max() *.8)\n",
    "dropcols = dropcols[dropcols==True]\n",
    "len(dropcols)"
   ]
  },
  {
   "cell_type": "code",
   "execution_count": 59,
   "metadata": {
    "collapsed": false
   },
   "outputs": [],
   "source": [
    "loanbook_full = loanbook.drop(dropcols.index, axis = 1)"
   ]
  },
  {
   "cell_type": "code",
   "execution_count": 67,
   "metadata": {
    "collapsed": false
   },
   "outputs": [],
   "source": [
    "uniqVal = loanbook_full.apply(lambda x: x.nunique(), axis=0)"
   ]
  },
  {
   "cell_type": "code",
   "execution_count": 111,
   "metadata": {
    "collapsed": false
   },
   "outputs": [
    {
     "data": {
      "text/plain": [
       "49"
      ]
     },
     "execution_count": 111,
     "metadata": {},
     "output_type": "execute_result"
    }
   ],
   "source": [
    "uniqVals_5_Greater = uniqVal[uniqVal>5]\n",
    "len(uniqVals_5_Greater)"
   ]
  },
  {
   "cell_type": "code",
   "execution_count": 74,
   "metadata": {
    "collapsed": true
   },
   "outputs": [],
   "source": [
    "loanbook_full = loanbook_full[uniqVals_5_Greater.index]"
   ]
  },
  {
   "cell_type": "code",
   "execution_count": 75,
   "metadata": {
    "collapsed": false,
    "scrolled": true
   },
   "outputs": [
    {
     "data": {
      "text/plain": [
       "array(['Fully Paid', 'Charged Off', 'Current', 'Default',\n",
       "       'Late (31-120 days)', 'In Grace Period', 'Late (16-30 days)', None,\n",
       "       'Does not meet the credit policy. Status:Fully Paid',\n",
       "       'Does not meet the credit policy. Status:Charged Off', 'Issued'], dtype=object)"
      ]
     },
     "execution_count": 75,
     "metadata": {},
     "output_type": "execute_result"
    }
   ],
   "source": [
    "#What are the unique values of the loan statuses? \n",
    "loanbook_full['loan_status'].unique()"
   ]
  },
  {
   "cell_type": "code",
   "execution_count": 76,
   "metadata": {
    "collapsed": true
   },
   "outputs": [],
   "source": [
    "#This is a how the values for a good loan will be mapped off of the existing loan_status\n",
    "d = {'Current': True, 'Fully Paid':True, 'Charged Off': False, 'Default':False, 'Late (31-120 days)':False, 'In Grace Period':False, 'Late (16-30 days)':False, 'Does not meet the credit policy. Status:Fully Paid':True, 'Does not meet the credit policy. Status:Charged Off':False, None:False, 'Issued':True }"
   ]
  },
  {
   "cell_type": "code",
   "execution_count": 81,
   "metadata": {
    "collapsed": false
   },
   "outputs": [
    {
     "data": {
      "text/plain": [
       "0    1.0\n",
       "1    0.0\n",
       "2    1.0\n",
       "3    1.0\n",
       "4    1.0\n",
       "Name: GoodLoan, dtype: float64"
      ]
     },
     "execution_count": 81,
     "metadata": {},
     "output_type": "execute_result"
    }
   ],
   "source": [
    "#New Column created for a good loan status based off of the mapping \n",
    "loanbook_full.loc['GoodLoan'] = loanbook['loan_status'].map(d)\n",
    "loanbook_full['GoodLoan'].head()"
   ]
  },
  {
   "cell_type": "code",
   "execution_count": 82,
   "metadata": {
    "collapsed": false
   },
   "outputs": [
    {
     "data": {
      "text/plain": [
       "array(['RENT', 'OWN', 'MORTGAGE', 'OTHER', 'NONE', None, 'ANY'], dtype=object)"
      ]
     },
     "execution_count": 82,
     "metadata": {},
     "output_type": "execute_result"
    }
   ],
   "source": [
    "loanbook['home_ownership'].unique()"
   ]
  },
  {
   "cell_type": "code",
   "execution_count": 83,
   "metadata": {
    "collapsed": false
   },
   "outputs": [],
   "source": [
    "dd = {'OWN':'OWN', 'NONE':'OTHER', 'OTHER':'OTHER', 'MORTGAGE':'OWN', None:'OTHER', 'ANY':'OTHER', 'NONE':'OTHER'}"
   ]
  },
  {
   "cell_type": "code",
   "execution_count": 84,
   "metadata": {
    "collapsed": false,
    "scrolled": true
   },
   "outputs": [],
   "source": [
    "loanbook_full.loc['home_ownership'] = loanbook['home_ownership'].map(dd)"
   ]
  },
  {
   "cell_type": "code",
   "execution_count": 85,
   "metadata": {
    "collapsed": false
   },
   "outputs": [],
   "source": [
    "loanbooksum = loanbook_full.describe()\n",
    "#loanbooksum.to_csv('loanbookFeaturesInt.csv', ',')"
   ]
  },
  {
   "cell_type": "code",
   "execution_count": 15,
   "metadata": {
    "collapsed": false
   },
   "outputs": [],
   "source": [
    "loanbook_clean = loanbook[newColNames]"
   ]
  },
  {
   "cell_type": "code",
   "execution_count": 86,
   "metadata": {
    "collapsed": false
   },
   "outputs": [
    {
     "data": {
      "text/plain": [
       "array(['10+ years', '< 1 year', '1 year', '3 years', '8 years', '9 years',\n",
       "       '4 years', '5 years', '6 years', '2 years', '7 years', 'n/a', None], dtype=object)"
      ]
     },
     "execution_count": 86,
     "metadata": {},
     "output_type": "execute_result"
    }
   ],
   "source": [
    "loanbook['emp_length'].unique()"
   ]
  },
  {
   "cell_type": "code",
   "execution_count": 87,
   "metadata": {
    "collapsed": true
   },
   "outputs": [],
   "source": [
    "ddd = {'10+ years':10, '< 1 year':0, '1 year':3, '2 years':2, '3 years':3, '4 years':4, '5 years':5, '6 years':6, '7 years':7, '8 years':8, '9 years':9, 'n/a':0, None:0}"
   ]
  },
  {
   "cell_type": "code",
   "execution_count": 88,
   "metadata": {
    "collapsed": false
   },
   "outputs": [],
   "source": [
    "loanbook_full.loc['emp_length'] = loanbook_clean['emp_length'].map(ddd)"
   ]
  },
  {
   "cell_type": "code",
   "execution_count": 89,
   "metadata": {
    "collapsed": false
   },
   "outputs": [
    {
     "data": {
      "text/plain": [
       "index                         float64\n",
       "id                             object\n",
       "member_id                     float64\n",
       "loan_amnt                     float64\n",
       "funded_amnt                   float64\n",
       "funded_amnt_inv               float64\n",
       "int_rate                       object\n",
       "installment                   float64\n",
       "grade                          object\n",
       "sub_grade                      object\n",
       "emp_title                      object\n",
       "emp_length                     object\n",
       "home_ownership                 object\n",
       "annual_inc                    float64\n",
       "issue_d                        object\n",
       "loan_status                    object\n",
       "url                            object\n",
       "desc                           object\n",
       "purpose                        object\n",
       "title                          object\n",
       "zip_code                       object\n",
       "addr_state                     object\n",
       "dti                           float64\n",
       "delinq_2yrs                   float64\n",
       "earliest_cr_line               object\n",
       "inq_last_6mths                float64\n",
       "open_acc                      float64\n",
       "pub_rec                       float64\n",
       "revol_bal                     float64\n",
       "revol_util                     object\n",
       "total_acc                     float64\n",
       "out_prncp                     float64\n",
       "out_prncp_inv                 float64\n",
       "total_pymnt                   float64\n",
       "total_pymnt_inv               float64\n",
       "total_rec_prncp               float64\n",
       "total_rec_int                 float64\n",
       "total_rec_late_fee            float64\n",
       "recoveries                    float64\n",
       "collection_recovery_fee       float64\n",
       "last_pymnt_d                   object\n",
       "last_pymnt_amnt               float64\n",
       "next_pymnt_d                   object\n",
       "last_credit_pull_d             object\n",
       "collections_12_mths_ex_med    float64\n",
       "acc_now_delinq                float64\n",
       "tot_coll_amt                  float64\n",
       "tot_cur_bal                   float64\n",
       "total_rev_hi_lim              float64\n",
       "GoodLoan                      float64\n",
       "dtype: object"
      ]
     },
     "execution_count": 89,
     "metadata": {},
     "output_type": "execute_result"
    }
   ],
   "source": [
    "loanbook_full.dtypes"
   ]
  },
  {
   "cell_type": "code",
   "execution_count": 116,
   "metadata": {
    "collapsed": false
   },
   "outputs": [
    {
     "data": {
      "text/plain": [
       "18"
      ]
     },
     "execution_count": 116,
     "metadata": {},
     "output_type": "execute_result"
    }
   ],
   "source": [
    "newColNames=['member_id', 'loan_amnt', 'int_rate', 'installment', 'emp_length', 'home_ownership', 'annual_inc', 'issue_d', 'loan_status', 'zip_code', 'addr_state', 'dti', 'earliest_cr_line', 'open_acc', 'revol_bal', 'total_acc', 'acc_now_delinq', 'GoodLoan']\n",
    "len(newColNames)"
   ]
  },
  {
   "cell_type": "code",
   "execution_count": 117,
   "metadata": {
    "collapsed": false
   },
   "outputs": [],
   "source": [
    "loanbook_temp = loanbook_full[newColNames]"
   ]
  },
  {
   "cell_type": "code",
   "execution_count": 105,
   "metadata": {
    "collapsed": false
   },
   "outputs": [],
   "source": [
    "loanbook_full['int_rate'] = loanbook_full.int_rate.replace({'%':''}, regex=True)"
   ]
  },
  {
   "cell_type": "code",
   "execution_count": 108,
   "metadata": {
    "collapsed": false
   },
   "outputs": [],
   "source": [
    "loanbook_full['int_rate']=loanbook_full.int_rate.astype(float)"
   ]
  },
  {
   "cell_type": "code",
   "execution_count": 118,
   "metadata": {
    "collapsed": false
   },
   "outputs": [],
   "source": [
    "loanbook_full.to_csv(\"CleanLoanData.csv\")"
   ]
  },
  {
   "cell_type": "code",
   "execution_count": null,
   "metadata": {
    "collapsed": false
   },
   "outputs": [],
   "source": []
  },
  {
   "cell_type": "code",
   "execution_count": null,
   "metadata": {
    "collapsed": true
   },
   "outputs": [],
   "source": []
  }
 ],
 "metadata": {
  "kernelspec": {
   "display_name": "Python 3",
   "language": "python",
   "name": "python3"
  },
  "language_info": {
   "codemirror_mode": {
    "name": "ipython",
    "version": 3
   },
   "file_extension": ".py",
   "mimetype": "text/x-python",
   "name": "python",
   "nbconvert_exporter": "python",
   "pygments_lexer": "ipython3",
   "version": "3.6.0"
  },
  "varInspector": {
   "cols": {
    "lenName": 16,
    "lenType": 16,
    "lenVar": 40
   },
   "kernels_config": {
    "python": {
     "delete_cmd_postfix": "",
     "delete_cmd_prefix": "del ",
     "library": "var_list.py",
     "varRefreshCmd": "print(var_dic_list())"
    },
    "r": {
     "delete_cmd_postfix": ") ",
     "delete_cmd_prefix": "rm(",
     "library": "var_list.r",
     "varRefreshCmd": "cat(var_dic_list()) "
    }
   },
   "types_to_exclude": [
    "module",
    "function",
    "builtin_function_or_method",
    "instance",
    "_Feature"
   ],
   "window_display": false
  }
 },
 "nbformat": 4,
 "nbformat_minor": 2
}
